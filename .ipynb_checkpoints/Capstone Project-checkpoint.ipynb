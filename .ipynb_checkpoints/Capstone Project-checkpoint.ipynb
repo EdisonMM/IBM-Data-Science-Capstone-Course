{
 "cells": [
  {
   "cell_type": "markdown",
   "metadata": {},
   "source": [
    "# Capstone Project"
   ]
  },
  {
   "cell_type": "markdown",
   "metadata": {},
   "source": [
    "Battle of Neighborhoods"
   ]
  },
  {
   "cell_type": "code",
   "execution_count": 85,
   "metadata": {},
   "outputs": [
    {
     "name": "stdout",
     "output_type": "stream",
     "text": [
      "Hello Capstone Project Course\n"
     ]
    }
   ],
   "source": [
    "import pandas as pd\n",
    "import numpy as np\n",
    "import json\n",
    "print('Hello Capstone Project Course')"
   ]
  },
  {
   "cell_type": "code",
   "execution_count": 2,
   "metadata": {},
   "outputs": [
    {
     "name": "stdout",
     "output_type": "stream",
     "text": [
      "Modules imported\n"
     ]
    }
   ],
   "source": [
    "import requests\n",
    "import bs4\n",
    "print(\"Modules imported\")"
   ]
  },
  {
   "cell_type": "code",
   "execution_count": 3,
   "metadata": {},
   "outputs": [],
   "source": [
    "res = requests.get('https://en.wikipedia.org/wiki/List_of_postal_codes_of_Canada:_M')"
   ]
  },
  {
   "cell_type": "code",
   "execution_count": 4,
   "metadata": {},
   "outputs": [],
   "source": [
    "# empty list \n",
    "data = [] \n",
    "   \n",
    "# getting the header from \n",
    "# the HTML file \n",
    "list_header = [] \n",
    "soup = bs4.BeautifulSoup(res.text, 'html.parser')\n",
    "header = soup.find_all(\"table\")[0].find(\"tr\") \n",
    "  \n",
    "for items in header: \n",
    "    try: \n",
    "        list_header.append(items.get_text().strip()) \n",
    "    except: \n",
    "        pass\n",
    "  \n",
    "\n",
    "HTML_data = soup.find_all(\"table\")[0].find_all(\"tr\")[1:] \n",
    "  \n",
    "for element in HTML_data: \n",
    "    sub_data = [] \n",
    "    for sub_element in element: \n",
    "        try: \n",
    "            sub_data.append(sub_element.get_text().strip()) \n",
    "        except: \n",
    "            continue\n",
    "    data.append(sub_data) \n",
    "  \n",
    "# Storing the data into Pandas \n",
    "# DataFrame  \n",
    "df = pd.DataFrame(data = data, columns = list_header) "
   ]
  },
  {
   "cell_type": "code",
   "execution_count": 5,
   "metadata": {},
   "outputs": [
    {
     "data": {
      "text/html": [
       "<div>\n",
       "<style scoped>\n",
       "    .dataframe tbody tr th:only-of-type {\n",
       "        vertical-align: middle;\n",
       "    }\n",
       "\n",
       "    .dataframe tbody tr th {\n",
       "        vertical-align: top;\n",
       "    }\n",
       "\n",
       "    .dataframe thead th {\n",
       "        text-align: right;\n",
       "    }\n",
       "</style>\n",
       "<table border=\"1\" class=\"dataframe\">\n",
       "  <thead>\n",
       "    <tr style=\"text-align: right;\">\n",
       "      <th></th>\n",
       "      <th>Postal Code</th>\n",
       "      <th>Borough</th>\n",
       "      <th>Neighborhood</th>\n",
       "    </tr>\n",
       "  </thead>\n",
       "  <tbody>\n",
       "    <tr>\n",
       "      <th>0</th>\n",
       "      <td>M1A</td>\n",
       "      <td>Not assigned</td>\n",
       "      <td>Not assigned</td>\n",
       "    </tr>\n",
       "    <tr>\n",
       "      <th>1</th>\n",
       "      <td>M2A</td>\n",
       "      <td>Not assigned</td>\n",
       "      <td>Not assigned</td>\n",
       "    </tr>\n",
       "    <tr>\n",
       "      <th>2</th>\n",
       "      <td>M3A</td>\n",
       "      <td>North York</td>\n",
       "      <td>Parkwoods</td>\n",
       "    </tr>\n",
       "    <tr>\n",
       "      <th>3</th>\n",
       "      <td>M4A</td>\n",
       "      <td>North York</td>\n",
       "      <td>Victoria Village</td>\n",
       "    </tr>\n",
       "    <tr>\n",
       "      <th>4</th>\n",
       "      <td>M5A</td>\n",
       "      <td>Downtown Toronto</td>\n",
       "      <td>Regent Park, Harbourfront</td>\n",
       "    </tr>\n",
       "    <tr>\n",
       "      <th>...</th>\n",
       "      <td>...</td>\n",
       "      <td>...</td>\n",
       "      <td>...</td>\n",
       "    </tr>\n",
       "    <tr>\n",
       "      <th>175</th>\n",
       "      <td>M5Z</td>\n",
       "      <td>Not assigned</td>\n",
       "      <td>Not assigned</td>\n",
       "    </tr>\n",
       "    <tr>\n",
       "      <th>176</th>\n",
       "      <td>M6Z</td>\n",
       "      <td>Not assigned</td>\n",
       "      <td>Not assigned</td>\n",
       "    </tr>\n",
       "    <tr>\n",
       "      <th>177</th>\n",
       "      <td>M7Z</td>\n",
       "      <td>Not assigned</td>\n",
       "      <td>Not assigned</td>\n",
       "    </tr>\n",
       "    <tr>\n",
       "      <th>178</th>\n",
       "      <td>M8Z</td>\n",
       "      <td>Etobicoke</td>\n",
       "      <td>Mimico NW, The Queensway West, South of Bloor,...</td>\n",
       "    </tr>\n",
       "    <tr>\n",
       "      <th>179</th>\n",
       "      <td>M9Z</td>\n",
       "      <td>Not assigned</td>\n",
       "      <td>Not assigned</td>\n",
       "    </tr>\n",
       "  </tbody>\n",
       "</table>\n",
       "<p>180 rows × 3 columns</p>\n",
       "</div>"
      ],
      "text/plain": [
       "    Postal Code           Borough  \\\n",
       "0           M1A      Not assigned   \n",
       "1           M2A      Not assigned   \n",
       "2           M3A        North York   \n",
       "3           M4A        North York   \n",
       "4           M5A  Downtown Toronto   \n",
       "..          ...               ...   \n",
       "175         M5Z      Not assigned   \n",
       "176         M6Z      Not assigned   \n",
       "177         M7Z      Not assigned   \n",
       "178         M8Z         Etobicoke   \n",
       "179         M9Z      Not assigned   \n",
       "\n",
       "                                          Neighborhood  \n",
       "0                                         Not assigned  \n",
       "1                                         Not assigned  \n",
       "2                                            Parkwoods  \n",
       "3                                     Victoria Village  \n",
       "4                            Regent Park, Harbourfront  \n",
       "..                                                 ...  \n",
       "175                                       Not assigned  \n",
       "176                                       Not assigned  \n",
       "177                                       Not assigned  \n",
       "178  Mimico NW, The Queensway West, South of Bloor,...  \n",
       "179                                       Not assigned  \n",
       "\n",
       "[180 rows x 3 columns]"
      ]
     },
     "execution_count": 5,
     "metadata": {},
     "output_type": "execute_result"
    }
   ],
   "source": [
    "df"
   ]
  },
  {
   "cell_type": "code",
   "execution_count": 6,
   "metadata": {},
   "outputs": [],
   "source": [
    "df.drop(df[df['Borough'] == 'Not assigned'].index, inplace = True)"
   ]
  },
  {
   "cell_type": "code",
   "execution_count": 76,
   "metadata": {},
   "outputs": [
    {
     "data": {
      "text/html": [
       "<div>\n",
       "<style scoped>\n",
       "    .dataframe tbody tr th:only-of-type {\n",
       "        vertical-align: middle;\n",
       "    }\n",
       "\n",
       "    .dataframe tbody tr th {\n",
       "        vertical-align: top;\n",
       "    }\n",
       "\n",
       "    .dataframe thead th {\n",
       "        text-align: right;\n",
       "    }\n",
       "</style>\n",
       "<table border=\"1\" class=\"dataframe\">\n",
       "  <thead>\n",
       "    <tr style=\"text-align: right;\">\n",
       "      <th></th>\n",
       "      <th>Postal Code</th>\n",
       "      <th>Borough</th>\n",
       "      <th>Neighborhood</th>\n",
       "      <th>latitude</th>\n",
       "      <th>longitude</th>\n",
       "    </tr>\n",
       "  </thead>\n",
       "  <tbody>\n",
       "    <tr>\n",
       "      <th>0</th>\n",
       "      <td>M3A</td>\n",
       "      <td>North York</td>\n",
       "      <td>Parkwoods</td>\n",
       "      <td>43.7545</td>\n",
       "      <td>-79.3300</td>\n",
       "    </tr>\n",
       "    <tr>\n",
       "      <th>1</th>\n",
       "      <td>M4A</td>\n",
       "      <td>North York</td>\n",
       "      <td>Victoria Village</td>\n",
       "      <td>43.7276</td>\n",
       "      <td>-79.3148</td>\n",
       "    </tr>\n",
       "    <tr>\n",
       "      <th>2</th>\n",
       "      <td>M5A</td>\n",
       "      <td>Downtown Toronto</td>\n",
       "      <td>Regent Park, Harbourfront</td>\n",
       "      <td>43.6555</td>\n",
       "      <td>-79.3626</td>\n",
       "    </tr>\n",
       "    <tr>\n",
       "      <th>3</th>\n",
       "      <td>M6A</td>\n",
       "      <td>North York</td>\n",
       "      <td>Lawrence Manor, Lawrence Heights</td>\n",
       "      <td>43.7223</td>\n",
       "      <td>-79.4504</td>\n",
       "    </tr>\n",
       "    <tr>\n",
       "      <th>4</th>\n",
       "      <td>M7A</td>\n",
       "      <td>Downtown Toronto</td>\n",
       "      <td>Queen's Park, Ontario Provincial Government</td>\n",
       "      <td>43.6641</td>\n",
       "      <td>-79.3889</td>\n",
       "    </tr>\n",
       "    <tr>\n",
       "      <th>...</th>\n",
       "      <td>...</td>\n",
       "      <td>...</td>\n",
       "      <td>...</td>\n",
       "      <td>...</td>\n",
       "      <td>...</td>\n",
       "    </tr>\n",
       "    <tr>\n",
       "      <th>98</th>\n",
       "      <td>M8X</td>\n",
       "      <td>Etobicoke</td>\n",
       "      <td>The Kingsway, Montgomery Road, Old Mill North</td>\n",
       "      <td>43.6518</td>\n",
       "      <td>-79.5076</td>\n",
       "    </tr>\n",
       "    <tr>\n",
       "      <th>99</th>\n",
       "      <td>M4Y</td>\n",
       "      <td>Downtown Toronto</td>\n",
       "      <td>Church and Wellesley</td>\n",
       "      <td>43.6656</td>\n",
       "      <td>-79.3830</td>\n",
       "    </tr>\n",
       "    <tr>\n",
       "      <th>100</th>\n",
       "      <td>M7Y</td>\n",
       "      <td>East Toronto</td>\n",
       "      <td>Business reply mail Processing Centre, South C...</td>\n",
       "      <td>43.7804</td>\n",
       "      <td>-79.2505</td>\n",
       "    </tr>\n",
       "    <tr>\n",
       "      <th>101</th>\n",
       "      <td>M8Y</td>\n",
       "      <td>Etobicoke</td>\n",
       "      <td>Old Mill South, King's Mill Park, Sunnylea, Hu...</td>\n",
       "      <td>43.6325</td>\n",
       "      <td>-79.4939</td>\n",
       "    </tr>\n",
       "    <tr>\n",
       "      <th>102</th>\n",
       "      <td>M8Z</td>\n",
       "      <td>Etobicoke</td>\n",
       "      <td>Mimico NW, The Queensway West, South of Bloor,...</td>\n",
       "      <td>43.6256</td>\n",
       "      <td>-79.5231</td>\n",
       "    </tr>\n",
       "  </tbody>\n",
       "</table>\n",
       "<p>103 rows × 5 columns</p>\n",
       "</div>"
      ],
      "text/plain": [
       "    Postal Code           Borough  \\\n",
       "0           M3A        North York   \n",
       "1           M4A        North York   \n",
       "2           M5A  Downtown Toronto   \n",
       "3           M6A        North York   \n",
       "4           M7A  Downtown Toronto   \n",
       "..          ...               ...   \n",
       "98          M8X         Etobicoke   \n",
       "99          M4Y  Downtown Toronto   \n",
       "100         M7Y      East Toronto   \n",
       "101         M8Y         Etobicoke   \n",
       "102         M8Z         Etobicoke   \n",
       "\n",
       "                                          Neighborhood  latitude  longitude  \n",
       "0                                            Parkwoods   43.7545   -79.3300  \n",
       "1                                     Victoria Village   43.7276   -79.3148  \n",
       "2                            Regent Park, Harbourfront   43.6555   -79.3626  \n",
       "3                     Lawrence Manor, Lawrence Heights   43.7223   -79.4504  \n",
       "4          Queen's Park, Ontario Provincial Government   43.6641   -79.3889  \n",
       "..                                                 ...       ...        ...  \n",
       "98       The Kingsway, Montgomery Road, Old Mill North   43.6518   -79.5076  \n",
       "99                                Church and Wellesley   43.6656   -79.3830  \n",
       "100  Business reply mail Processing Centre, South C...   43.7804   -79.2505  \n",
       "101  Old Mill South, King's Mill Park, Sunnylea, Hu...   43.6325   -79.4939  \n",
       "102  Mimico NW, The Queensway West, South of Bloor,...   43.6256   -79.5231  \n",
       "\n",
       "[103 rows x 5 columns]"
      ]
     },
     "execution_count": 76,
     "metadata": {},
     "output_type": "execute_result"
    }
   ],
   "source": [
    "df = df.reset_index(drop=True)\n",
    "df"
   ]
  },
  {
   "cell_type": "code",
   "execution_count": 8,
   "metadata": {},
   "outputs": [
    {
     "data": {
      "text/plain": [
       "(103, 3)"
      ]
     },
     "execution_count": 8,
     "metadata": {},
     "output_type": "execute_result"
    }
   ],
   "source": [
    "df.shape"
   ]
  },
  {
   "cell_type": "code",
   "execution_count": 9,
   "metadata": {},
   "outputs": [
    {
     "data": {
      "text/html": [
       "<div>\n",
       "<style scoped>\n",
       "    .dataframe tbody tr th:only-of-type {\n",
       "        vertical-align: middle;\n",
       "    }\n",
       "\n",
       "    .dataframe tbody tr th {\n",
       "        vertical-align: top;\n",
       "    }\n",
       "\n",
       "    .dataframe thead th {\n",
       "        text-align: right;\n",
       "    }\n",
       "</style>\n",
       "<table border=\"1\" class=\"dataframe\">\n",
       "  <thead>\n",
       "    <tr style=\"text-align: right;\">\n",
       "      <th></th>\n",
       "      <th>Postal Code</th>\n",
       "      <th>Borough</th>\n",
       "      <th>Neighborhood</th>\n",
       "    </tr>\n",
       "  </thead>\n",
       "  <tbody>\n",
       "  </tbody>\n",
       "</table>\n",
       "</div>"
      ],
      "text/plain": [
       "Empty DataFrame\n",
       "Columns: [Postal Code, Borough, Neighborhood]\n",
       "Index: []"
      ]
     },
     "execution_count": 9,
     "metadata": {},
     "output_type": "execute_result"
    }
   ],
   "source": [
    "df[(df['Borough'] != 'Not assigned') & (df['Neighborhood'] == 'Not assigned')]"
   ]
  },
  {
   "cell_type": "markdown",
   "metadata": {},
   "source": [
    "## Explanation of the cleaning"
   ]
  },
  {
   "cell_type": "markdown",
   "metadata": {},
   "source": [
    "1. I dropped all the rows thas has no assigned borough\n",
    "2. It happens that all the rows that have no assigned boroughs also have no assigned neighborhood as we can see above "
   ]
  },
  {
   "cell_type": "markdown",
   "metadata": {},
   "source": [
    "# Adding Coordinates"
   ]
  },
  {
   "cell_type": "code",
   "execution_count": 10,
   "metadata": {},
   "outputs": [],
   "source": [
    "import geocoder # import geocoder"
   ]
  },
  {
   "cell_type": "code",
   "execution_count": 22,
   "metadata": {},
   "outputs": [],
   "source": [
    "import pgeocode"
   ]
  },
  {
   "cell_type": "code",
   "execution_count": 25,
   "metadata": {},
   "outputs": [],
   "source": [
    "nomi = pgeocode.Nominatim('CA')"
   ]
  },
  {
   "cell_type": "code",
   "execution_count": 31,
   "metadata": {},
   "outputs": [],
   "source": [
    "lat = []\n",
    "lng = []\n",
    "\n",
    "for pc in df['Postal Code']:\n",
    "    \n",
    "    lat.append(nomi.query_postal_code(pc)['latitude'])\n",
    "    lng.append(nomi.query_postal_code(pc)['longitude'])"
   ]
  },
  {
   "cell_type": "code",
   "execution_count": 33,
   "metadata": {},
   "outputs": [],
   "source": [
    "df['latitude'] = lat\n",
    "df['longitude'] = lng"
   ]
  },
  {
   "cell_type": "code",
   "execution_count": 77,
   "metadata": {},
   "outputs": [
    {
     "data": {
      "text/html": [
       "<div>\n",
       "<style scoped>\n",
       "    .dataframe tbody tr th:only-of-type {\n",
       "        vertical-align: middle;\n",
       "    }\n",
       "\n",
       "    .dataframe tbody tr th {\n",
       "        vertical-align: top;\n",
       "    }\n",
       "\n",
       "    .dataframe thead th {\n",
       "        text-align: right;\n",
       "    }\n",
       "</style>\n",
       "<table border=\"1\" class=\"dataframe\">\n",
       "  <thead>\n",
       "    <tr style=\"text-align: right;\">\n",
       "      <th></th>\n",
       "      <th>Postal Code</th>\n",
       "      <th>Borough</th>\n",
       "      <th>Neighborhood</th>\n",
       "      <th>latitude</th>\n",
       "      <th>longitude</th>\n",
       "    </tr>\n",
       "  </thead>\n",
       "  <tbody>\n",
       "    <tr>\n",
       "      <th>0</th>\n",
       "      <td>M3A</td>\n",
       "      <td>North York</td>\n",
       "      <td>Parkwoods</td>\n",
       "      <td>43.7545</td>\n",
       "      <td>-79.3300</td>\n",
       "    </tr>\n",
       "    <tr>\n",
       "      <th>1</th>\n",
       "      <td>M4A</td>\n",
       "      <td>North York</td>\n",
       "      <td>Victoria Village</td>\n",
       "      <td>43.7276</td>\n",
       "      <td>-79.3148</td>\n",
       "    </tr>\n",
       "    <tr>\n",
       "      <th>2</th>\n",
       "      <td>M5A</td>\n",
       "      <td>Downtown Toronto</td>\n",
       "      <td>Regent Park, Harbourfront</td>\n",
       "      <td>43.6555</td>\n",
       "      <td>-79.3626</td>\n",
       "    </tr>\n",
       "    <tr>\n",
       "      <th>3</th>\n",
       "      <td>M6A</td>\n",
       "      <td>North York</td>\n",
       "      <td>Lawrence Manor, Lawrence Heights</td>\n",
       "      <td>43.7223</td>\n",
       "      <td>-79.4504</td>\n",
       "    </tr>\n",
       "    <tr>\n",
       "      <th>4</th>\n",
       "      <td>M7A</td>\n",
       "      <td>Downtown Toronto</td>\n",
       "      <td>Queen's Park, Ontario Provincial Government</td>\n",
       "      <td>43.6641</td>\n",
       "      <td>-79.3889</td>\n",
       "    </tr>\n",
       "    <tr>\n",
       "      <th>...</th>\n",
       "      <td>...</td>\n",
       "      <td>...</td>\n",
       "      <td>...</td>\n",
       "      <td>...</td>\n",
       "      <td>...</td>\n",
       "    </tr>\n",
       "    <tr>\n",
       "      <th>98</th>\n",
       "      <td>M8X</td>\n",
       "      <td>Etobicoke</td>\n",
       "      <td>The Kingsway, Montgomery Road, Old Mill North</td>\n",
       "      <td>43.6518</td>\n",
       "      <td>-79.5076</td>\n",
       "    </tr>\n",
       "    <tr>\n",
       "      <th>99</th>\n",
       "      <td>M4Y</td>\n",
       "      <td>Downtown Toronto</td>\n",
       "      <td>Church and Wellesley</td>\n",
       "      <td>43.6656</td>\n",
       "      <td>-79.3830</td>\n",
       "    </tr>\n",
       "    <tr>\n",
       "      <th>100</th>\n",
       "      <td>M7Y</td>\n",
       "      <td>East Toronto</td>\n",
       "      <td>Business reply mail Processing Centre, South C...</td>\n",
       "      <td>43.7804</td>\n",
       "      <td>-79.2505</td>\n",
       "    </tr>\n",
       "    <tr>\n",
       "      <th>101</th>\n",
       "      <td>M8Y</td>\n",
       "      <td>Etobicoke</td>\n",
       "      <td>Old Mill South, King's Mill Park, Sunnylea, Hu...</td>\n",
       "      <td>43.6325</td>\n",
       "      <td>-79.4939</td>\n",
       "    </tr>\n",
       "    <tr>\n",
       "      <th>102</th>\n",
       "      <td>M8Z</td>\n",
       "      <td>Etobicoke</td>\n",
       "      <td>Mimico NW, The Queensway West, South of Bloor,...</td>\n",
       "      <td>43.6256</td>\n",
       "      <td>-79.5231</td>\n",
       "    </tr>\n",
       "  </tbody>\n",
       "</table>\n",
       "<p>103 rows × 5 columns</p>\n",
       "</div>"
      ],
      "text/plain": [
       "    Postal Code           Borough  \\\n",
       "0           M3A        North York   \n",
       "1           M4A        North York   \n",
       "2           M5A  Downtown Toronto   \n",
       "3           M6A        North York   \n",
       "4           M7A  Downtown Toronto   \n",
       "..          ...               ...   \n",
       "98          M8X         Etobicoke   \n",
       "99          M4Y  Downtown Toronto   \n",
       "100         M7Y      East Toronto   \n",
       "101         M8Y         Etobicoke   \n",
       "102         M8Z         Etobicoke   \n",
       "\n",
       "                                          Neighborhood  latitude  longitude  \n",
       "0                                            Parkwoods   43.7545   -79.3300  \n",
       "1                                     Victoria Village   43.7276   -79.3148  \n",
       "2                            Regent Park, Harbourfront   43.6555   -79.3626  \n",
       "3                     Lawrence Manor, Lawrence Heights   43.7223   -79.4504  \n",
       "4          Queen's Park, Ontario Provincial Government   43.6641   -79.3889  \n",
       "..                                                 ...       ...        ...  \n",
       "98       The Kingsway, Montgomery Road, Old Mill North   43.6518   -79.5076  \n",
       "99                                Church and Wellesley   43.6656   -79.3830  \n",
       "100  Business reply mail Processing Centre, South C...   43.7804   -79.2505  \n",
       "101  Old Mill South, King's Mill Park, Sunnylea, Hu...   43.6325   -79.4939  \n",
       "102  Mimico NW, The Queensway West, South of Bloor,...   43.6256   -79.5231  \n",
       "\n",
       "[103 rows x 5 columns]"
      ]
     },
     "execution_count": 77,
     "metadata": {},
     "output_type": "execute_result"
    }
   ],
   "source": [
    "df"
   ]
  },
  {
   "cell_type": "markdown",
   "metadata": {},
   "source": [
    "# Exploring the Neighborhoods"
   ]
  },
  {
   "cell_type": "code",
   "execution_count": 89,
   "metadata": {},
   "outputs": [
    {
     "name": "stdout",
     "output_type": "stream",
     "text": [
      "Libraries imported.\n"
     ]
    }
   ],
   "source": [
    "import numpy as np # library to handle data in a vectorized manner\n",
    "\n",
    "import pandas as pd # library for data analsysis\n",
    "pd.set_option('display.max_columns', None)\n",
    "pd.set_option('display.max_rows', None)\n",
    "\n",
    "import json # library to handle JSON files\n",
    "\n",
    "#!conda install -c conda-forge geopy --yes # uncomment this line if you haven't completed the Foursquare API lab\n",
    "#from geopy.geocoders import Nominatim # convert an address into latitude and longitude values\n",
    "\n",
    "import requests # library to handle requests\n",
    "from pandas.io.json import json_normalize # tranform JSON file into a pandas dataframe\n",
    "\n",
    "# Matplotlib and associated plotting modules\n",
    "import matplotlib.cm as cm\n",
    "import matplotlib.colors as colors\n",
    "\n",
    "# import k-means from clustering stage\n",
    "from sklearn.cluster import KMeans\n",
    "\n",
    "#!conda install -c conda-forge folium=0.5.0 --yes # uncomment this line if you haven't completed the Foursquare API lab\n",
    "import folium # map rendering library\n",
    "\n",
    "from geopy.geocoders import Nominatim\n",
    "\n",
    "print('Libraries imported.')"
   ]
  },
  {
   "cell_type": "code",
   "execution_count": 102,
   "metadata": {},
   "outputs": [
    {
     "name": "stdout",
     "output_type": "stream",
     "text": [
      "Your credentails:\n",
      "CLIENT_ID: KK4QVCASJEMLYDSOCWLFNQ2TNWV05UBKVQ13ZDTLYRCLZN4S\n",
      "CLIENT_SECRET:B0SSXAF0H4LRYEIY43BRR00MKYNNPJCTNXNLX4XYLTYCCFVA\n"
     ]
    }
   ],
   "source": [
    "#Foursquare Credentials\n",
    "CLIENT_ID = 'KK4QVCASJEMLYDSOCWLFNQ2TNWV05UBKVQ13ZDTLYRCLZN4S' # your Foursquare ID\n",
    "CLIENT_SECRET = 'B0SSXAF0H4LRYEIY43BRR00MKYNNPJCTNXNLX4XYLTYCCFVA' # your Foursquare Secret\n",
    "VERSION = '20180605' # Foursquare API version\n",
    "\n",
    "print('Your credentails:')\n",
    "print('CLIENT_ID: ' + CLIENT_ID)\n",
    "print('CLIENT_SECRET:' + CLIENT_SECRET)"
   ]
  },
  {
   "cell_type": "code",
   "execution_count": 104,
   "metadata": {},
   "outputs": [
    {
     "data": {
      "text/html": [
       "<div>\n",
       "<style scoped>\n",
       "    .dataframe tbody tr th:only-of-type {\n",
       "        vertical-align: middle;\n",
       "    }\n",
       "\n",
       "    .dataframe tbody tr th {\n",
       "        vertical-align: top;\n",
       "    }\n",
       "\n",
       "    .dataframe thead th {\n",
       "        text-align: right;\n",
       "    }\n",
       "</style>\n",
       "<table border=\"1\" class=\"dataframe\">\n",
       "  <thead>\n",
       "    <tr style=\"text-align: right;\">\n",
       "      <th></th>\n",
       "      <th>Postal Code</th>\n",
       "      <th>Borough</th>\n",
       "      <th>Neighborhood</th>\n",
       "      <th>latitude</th>\n",
       "      <th>longitude</th>\n",
       "    </tr>\n",
       "  </thead>\n",
       "  <tbody>\n",
       "    <tr>\n",
       "      <th>0</th>\n",
       "      <td>M3A</td>\n",
       "      <td>North York</td>\n",
       "      <td>Parkwoods</td>\n",
       "      <td>43.7545</td>\n",
       "      <td>-79.3300</td>\n",
       "    </tr>\n",
       "    <tr>\n",
       "      <th>1</th>\n",
       "      <td>M4A</td>\n",
       "      <td>North York</td>\n",
       "      <td>Victoria Village</td>\n",
       "      <td>43.7276</td>\n",
       "      <td>-79.3148</td>\n",
       "    </tr>\n",
       "    <tr>\n",
       "      <th>2</th>\n",
       "      <td>M5A</td>\n",
       "      <td>Downtown Toronto</td>\n",
       "      <td>Regent Park, Harbourfront</td>\n",
       "      <td>43.6555</td>\n",
       "      <td>-79.3626</td>\n",
       "    </tr>\n",
       "    <tr>\n",
       "      <th>3</th>\n",
       "      <td>M6A</td>\n",
       "      <td>North York</td>\n",
       "      <td>Lawrence Manor, Lawrence Heights</td>\n",
       "      <td>43.7223</td>\n",
       "      <td>-79.4504</td>\n",
       "    </tr>\n",
       "    <tr>\n",
       "      <th>4</th>\n",
       "      <td>M7A</td>\n",
       "      <td>Downtown Toronto</td>\n",
       "      <td>Queen's Park, Ontario Provincial Government</td>\n",
       "      <td>43.6641</td>\n",
       "      <td>-79.3889</td>\n",
       "    </tr>\n",
       "    <tr>\n",
       "      <th>5</th>\n",
       "      <td>M9A</td>\n",
       "      <td>Etobicoke</td>\n",
       "      <td>Islington Avenue, Humber Valley Village</td>\n",
       "      <td>43.6662</td>\n",
       "      <td>-79.5282</td>\n",
       "    </tr>\n",
       "    <tr>\n",
       "      <th>6</th>\n",
       "      <td>M1B</td>\n",
       "      <td>Scarborough</td>\n",
       "      <td>Malvern, Rouge</td>\n",
       "      <td>43.8113</td>\n",
       "      <td>-79.1930</td>\n",
       "    </tr>\n",
       "    <tr>\n",
       "      <th>7</th>\n",
       "      <td>M3B</td>\n",
       "      <td>North York</td>\n",
       "      <td>Don Mills</td>\n",
       "      <td>43.7450</td>\n",
       "      <td>-79.3590</td>\n",
       "    </tr>\n",
       "    <tr>\n",
       "      <th>8</th>\n",
       "      <td>M4B</td>\n",
       "      <td>East York</td>\n",
       "      <td>Parkview Hill, Woodbine Gardens</td>\n",
       "      <td>43.7063</td>\n",
       "      <td>-79.3094</td>\n",
       "    </tr>\n",
       "    <tr>\n",
       "      <th>9</th>\n",
       "      <td>M5B</td>\n",
       "      <td>Downtown Toronto</td>\n",
       "      <td>Garden District, Ryerson</td>\n",
       "      <td>43.6572</td>\n",
       "      <td>-79.3783</td>\n",
       "    </tr>\n",
       "  </tbody>\n",
       "</table>\n",
       "</div>"
      ],
      "text/plain": [
       "  Postal Code           Borough                                 Neighborhood  \\\n",
       "0         M3A        North York                                    Parkwoods   \n",
       "1         M4A        North York                             Victoria Village   \n",
       "2         M5A  Downtown Toronto                    Regent Park, Harbourfront   \n",
       "3         M6A        North York             Lawrence Manor, Lawrence Heights   \n",
       "4         M7A  Downtown Toronto  Queen's Park, Ontario Provincial Government   \n",
       "5         M9A         Etobicoke      Islington Avenue, Humber Valley Village   \n",
       "6         M1B       Scarborough                               Malvern, Rouge   \n",
       "7         M3B        North York                                    Don Mills   \n",
       "8         M4B         East York              Parkview Hill, Woodbine Gardens   \n",
       "9         M5B  Downtown Toronto                     Garden District, Ryerson   \n",
       "\n",
       "   latitude  longitude  \n",
       "0   43.7545   -79.3300  \n",
       "1   43.7276   -79.3148  \n",
       "2   43.6555   -79.3626  \n",
       "3   43.7223   -79.4504  \n",
       "4   43.6641   -79.3889  \n",
       "5   43.6662   -79.5282  \n",
       "6   43.8113   -79.1930  \n",
       "7   43.7450   -79.3590  \n",
       "8   43.7063   -79.3094  \n",
       "9   43.6572   -79.3783  "
      ]
     },
     "execution_count": 104,
     "metadata": {},
     "output_type": "execute_result"
    }
   ],
   "source": [
    "df.head(10)"
   ]
  },
  {
   "cell_type": "code",
   "execution_count": null,
   "metadata": {},
   "outputs": [],
   "source": []
  },
  {
   "cell_type": "code",
   "execution_count": 98,
   "metadata": {},
   "outputs": [],
   "source": [
    "# Let's get the info from the item key\n",
    "\n",
    "# function that extracts the category of the venue\n",
    "def get_category_type(row):\n",
    "    try:\n",
    "        categories_list = row['categories']\n",
    "    except:\n",
    "        categories_list = row['venue.categories']\n",
    "        \n",
    "    if len(categories_list) == 0:\n",
    "        return None\n",
    "    else:\n",
    "        return categories_list[0]['name']"
   ]
  },
  {
   "cell_type": "code",
   "execution_count": 99,
   "metadata": {},
   "outputs": [
    {
     "name": "stderr",
     "output_type": "stream",
     "text": [
      "/home/edison/anaconda3/lib/python3.6/site-packages/ipykernel_launcher.py:4: FutureWarning: pandas.io.json.json_normalize is deprecated, use pandas.json_normalize instead\n",
      "  after removing the cwd from sys.path.\n"
     ]
    },
    {
     "data": {
      "text/html": [
       "<div>\n",
       "<style scoped>\n",
       "    .dataframe tbody tr th:only-of-type {\n",
       "        vertical-align: middle;\n",
       "    }\n",
       "\n",
       "    .dataframe tbody tr th {\n",
       "        vertical-align: top;\n",
       "    }\n",
       "\n",
       "    .dataframe thead th {\n",
       "        text-align: right;\n",
       "    }\n",
       "</style>\n",
       "<table border=\"1\" class=\"dataframe\">\n",
       "  <thead>\n",
       "    <tr style=\"text-align: right;\">\n",
       "      <th></th>\n",
       "      <th>name</th>\n",
       "      <th>categories</th>\n",
       "      <th>lat</th>\n",
       "      <th>lng</th>\n",
       "    </tr>\n",
       "  </thead>\n",
       "  <tbody>\n",
       "    <tr>\n",
       "      <th>0</th>\n",
       "      <td>Brookbanks Park</td>\n",
       "      <td>Park</td>\n",
       "      <td>43.751976</td>\n",
       "      <td>-79.332140</td>\n",
       "    </tr>\n",
       "    <tr>\n",
       "      <th>1</th>\n",
       "      <td>GTA Restoration</td>\n",
       "      <td>Fireworks Store</td>\n",
       "      <td>43.753396</td>\n",
       "      <td>-79.333477</td>\n",
       "    </tr>\n",
       "    <tr>\n",
       "      <th>2</th>\n",
       "      <td>Variety Store</td>\n",
       "      <td>Food &amp; Drink Shop</td>\n",
       "      <td>43.751974</td>\n",
       "      <td>-79.333114</td>\n",
       "    </tr>\n",
       "  </tbody>\n",
       "</table>\n",
       "</div>"
      ],
      "text/plain": [
       "              name         categories        lat        lng\n",
       "0  Brookbanks Park               Park  43.751976 -79.332140\n",
       "1  GTA Restoration    Fireworks Store  43.753396 -79.333477\n",
       "2    Variety Store  Food & Drink Shop  43.751974 -79.333114"
      ]
     },
     "execution_count": 99,
     "metadata": {},
     "output_type": "execute_result"
    }
   ],
   "source": [
    "#Now we are ready to clean the json and structure it into a *pandas* dataframe.\n",
    "venues = results['response']['groups'][0]['items']\n",
    "    \n",
    "nearby_venues = json_normalize(venues) # flatten JSON\n",
    "\n",
    "# filter columns\n",
    "filtered_columns = ['venue.name', 'venue.categories', 'venue.location.lat', 'venue.location.lng']\n",
    "nearby_venues =nearby_venues.loc[:, filtered_columns]\n",
    "\n",
    "# filter the category for each row\n",
    "nearby_venues['venue.categories'] = nearby_venues.apply(get_category_type, axis=1)\n",
    "\n",
    "# clean columns\n",
    "nearby_venues.columns = [col.split(\".\")[-1] for col in nearby_venues.columns]\n",
    "\n",
    "nearby_venues.head()"
   ]
  },
  {
   "cell_type": "markdown",
   "metadata": {},
   "source": [
    "The number of venues returned by Foursquare"
   ]
  },
  {
   "cell_type": "code",
   "execution_count": 100,
   "metadata": {},
   "outputs": [
    {
     "name": "stdout",
     "output_type": "stream",
     "text": [
      "3 venues were returned by Foursquare.\n"
     ]
    }
   ],
   "source": [
    "print('{} venues were returned by Foursquare.'.format(nearby_venues.shape[0]))"
   ]
  },
  {
   "cell_type": "markdown",
   "metadata": {},
   "source": [
    "## 2. Explore Neighborhoods in Toronto"
   ]
  },
  {
   "cell_type": "markdown",
   "metadata": {},
   "source": [
    "I will consider only the Boroughs that contain the word Toronto"
   ]
  },
  {
   "cell_type": "code",
   "execution_count": 109,
   "metadata": {},
   "outputs": [],
   "source": [
    "toronto = pd.DataFrame(columns = df.columns)"
   ]
  },
  {
   "cell_type": "code",
   "execution_count": 119,
   "metadata": {},
   "outputs": [],
   "source": [
    "for i in range(len(df)):\n",
    "    \n",
    "    if 'Toronto' in df.loc[i, 'Borough']:\n",
    "        \n",
    "        toronto = toronto.append(df.loc[i])"
   ]
  },
  {
   "cell_type": "code",
   "execution_count": 121,
   "metadata": {},
   "outputs": [
    {
     "data": {
      "text/html": [
       "<div>\n",
       "<style scoped>\n",
       "    .dataframe tbody tr th:only-of-type {\n",
       "        vertical-align: middle;\n",
       "    }\n",
       "\n",
       "    .dataframe tbody tr th {\n",
       "        vertical-align: top;\n",
       "    }\n",
       "\n",
       "    .dataframe thead th {\n",
       "        text-align: right;\n",
       "    }\n",
       "</style>\n",
       "<table border=\"1\" class=\"dataframe\">\n",
       "  <thead>\n",
       "    <tr style=\"text-align: right;\">\n",
       "      <th></th>\n",
       "      <th>Postal Code</th>\n",
       "      <th>Borough</th>\n",
       "      <th>Neighborhood</th>\n",
       "      <th>latitude</th>\n",
       "      <th>longitude</th>\n",
       "    </tr>\n",
       "  </thead>\n",
       "  <tbody>\n",
       "    <tr>\n",
       "      <th>2</th>\n",
       "      <td>M5A</td>\n",
       "      <td>Downtown Toronto</td>\n",
       "      <td>Regent Park, Harbourfront</td>\n",
       "      <td>43.6555</td>\n",
       "      <td>-79.3626</td>\n",
       "    </tr>\n",
       "    <tr>\n",
       "      <th>4</th>\n",
       "      <td>M7A</td>\n",
       "      <td>Downtown Toronto</td>\n",
       "      <td>Queen's Park, Ontario Provincial Government</td>\n",
       "      <td>43.6641</td>\n",
       "      <td>-79.3889</td>\n",
       "    </tr>\n",
       "    <tr>\n",
       "      <th>9</th>\n",
       "      <td>M5B</td>\n",
       "      <td>Downtown Toronto</td>\n",
       "      <td>Garden District, Ryerson</td>\n",
       "      <td>43.6572</td>\n",
       "      <td>-79.3783</td>\n",
       "    </tr>\n",
       "    <tr>\n",
       "      <th>15</th>\n",
       "      <td>M5C</td>\n",
       "      <td>Downtown Toronto</td>\n",
       "      <td>St. James Town</td>\n",
       "      <td>43.6513</td>\n",
       "      <td>-79.3756</td>\n",
       "    </tr>\n",
       "    <tr>\n",
       "      <th>19</th>\n",
       "      <td>M4E</td>\n",
       "      <td>East Toronto</td>\n",
       "      <td>The Beaches</td>\n",
       "      <td>43.6784</td>\n",
       "      <td>-79.2941</td>\n",
       "    </tr>\n",
       "  </tbody>\n",
       "</table>\n",
       "</div>"
      ],
      "text/plain": [
       "   Postal Code           Borough                                 Neighborhood  \\\n",
       "2          M5A  Downtown Toronto                    Regent Park, Harbourfront   \n",
       "4          M7A  Downtown Toronto  Queen's Park, Ontario Provincial Government   \n",
       "9          M5B  Downtown Toronto                     Garden District, Ryerson   \n",
       "15         M5C  Downtown Toronto                               St. James Town   \n",
       "19         M4E      East Toronto                                  The Beaches   \n",
       "\n",
       "    latitude  longitude  \n",
       "2    43.6555   -79.3626  \n",
       "4    43.6641   -79.3889  \n",
       "9    43.6572   -79.3783  \n",
       "15   43.6513   -79.3756  \n",
       "19   43.6784   -79.2941  "
      ]
     },
     "execution_count": 121,
     "metadata": {},
     "output_type": "execute_result"
    }
   ],
   "source": [
    "toronto.head()"
   ]
  },
  {
   "cell_type": "markdown",
   "metadata": {},
   "source": [
    "Let's get the geographical coordinates of Toronto."
   ]
  },
  {
   "cell_type": "code",
   "execution_count": 141,
   "metadata": {},
   "outputs": [
    {
     "name": "stdout",
     "output_type": "stream",
     "text": [
      "The latitude and longitude of Toronto are (43.6534817 , -79.3839347 )\n"
     ]
    }
   ],
   "source": [
    "geolocator = Nominatim(user_agent=\"ca_explorer\")\n",
    "location = geolocator.geocode(\"Toronto\")\n",
    "latitude = location.latitude\n",
    "longitude = location.longitude\n",
    "print('The latitude and longitude of Toronto are (' + str(latitude) +' , ' + str(longitude) +' )')"
   ]
  },
  {
   "cell_type": "markdown",
   "metadata": {},
   "source": [
    "Let's visualize Toronto"
   ]
  },
  {
   "cell_type": "code",
   "execution_count": 146,
   "metadata": {},
   "outputs": [
    {
     "data": {
      "text/html": [
       "<div style=\"width:100%;\"><div style=\"position:relative;width:100%;height:0;padding-bottom:60%;\"><span style=\"color:#565656\">Make this Notebook Trusted to load map: File -> Trust Notebook</span><iframe src=\"about:blank\" style=\"position:absolute;width:100%;height:100%;left:0;top:0;border:none !important;\" data-html=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 onload=\"this.contentDocument.open();this.contentDocument.write(atob(this.getAttribute('data-html')));this.contentDocument.close();\" allowfullscreen webkitallowfullscreen mozallowfullscreen></iframe></div></div>"
      ],
      "text/plain": [
       "<folium.folium.Map at 0x7fdd0170c2e8>"
      ]
     },
     "execution_count": 146,
     "metadata": {},
     "output_type": "execute_result"
    }
   ],
   "source": [
    "# create map of Manhattan using latitude and longitude values\n",
    "toronto_map = folium.Map(location=[latitude, longitude], zoom_start=11)\n",
    "\n",
    "# add markers to map\n",
    "for lat, lng, label in zip(toronto['latitude'], toronto['longitude'], toronto['Neighborhood']):\n",
    "    label = folium.Popup(label, parse_html=True)\n",
    "    folium.CircleMarker(\n",
    "        [lat, lng],\n",
    "        radius=5,\n",
    "        popup=label,\n",
    "        color='blue',\n",
    "        fill=True,\n",
    "        fill_color='#3186cc',\n",
    "        fill_opacity=0.7,\n",
    "        parse_html=False).add_to(toronto_map) \n",
    "toronto_map"
   ]
  },
  {
   "cell_type": "markdown",
   "metadata": {},
   "source": [
    "We create a function that retrieves venues from all the neighborhoods in Toronto"
   ]
  },
  {
   "cell_type": "code",
   "execution_count": 147,
   "metadata": {},
   "outputs": [],
   "source": [
    "def getNearbyVenues(names, latitudes, longitudes, radius=500):\n",
    "    \n",
    "    venues_list=[]\n",
    "    for name, lat, lng in zip(names, latitudes, longitudes):\n",
    "        print(name)\n",
    "            \n",
    "        # create the API request URL\n",
    "        url = 'https://api.foursquare.com/v2/venues/explore?&client_id={}&client_secret={}&v={}&ll={},{}&radius={}&limit={}'.format(\n",
    "            CLIENT_ID, \n",
    "            CLIENT_SECRET, \n",
    "            VERSION, \n",
    "            lat, \n",
    "            lng, \n",
    "            radius, \n",
    "            LIMIT)\n",
    "            \n",
    "        # make the GET request\n",
    "        results = requests.get(url).json()[\"response\"]['groups'][0]['items']\n",
    "        \n",
    "        # return only relevant information for each nearby venue\n",
    "        venues_list.append([(\n",
    "            name, \n",
    "            lat, \n",
    "            lng, \n",
    "            v['venue']['name'], \n",
    "            v['venue']['location']['lat'], \n",
    "            v['venue']['location']['lng'],  \n",
    "            v['venue']['categories'][0]['name']) for v in results])\n",
    "\n",
    "    nearby_venues = pd.DataFrame([item for venue_list in venues_list for item in venue_list])\n",
    "    nearby_venues.columns = ['Neighborhood', \n",
    "                  'Neighborhood Latitude', \n",
    "                  'Neighborhood Longitude', \n",
    "                  'Venue', \n",
    "                  'Venue Latitude', \n",
    "                  'Venue Longitude', \n",
    "                  'Venue Category']\n",
    "    \n",
    "    return(nearby_venues)"
   ]
  },
  {
   "cell_type": "code",
   "execution_count": 149,
   "metadata": {},
   "outputs": [
    {
     "name": "stdout",
     "output_type": "stream",
     "text": [
      "Regent Park, Harbourfront\n",
      "Queen's Park, Ontario Provincial Government\n",
      "Garden District, Ryerson\n",
      "St. James Town\n",
      "The Beaches\n",
      "Berczy Park\n",
      "Central Bay Street\n",
      "Christie\n",
      "Richmond, Adelaide, King\n",
      "Dufferin, Dovercourt Village\n",
      "Harbourfront East, Union Station, Toronto Islands\n",
      "Little Portugal, Trinity\n",
      "The Danforth West, Riverdale\n",
      "Toronto Dominion Centre, Design Exchange\n",
      "Brockton, Parkdale Village, Exhibition Place\n",
      "India Bazaar, The Beaches West\n",
      "Commerce Court, Victoria Hotel\n",
      "Studio District\n",
      "Lawrence Park\n",
      "Roselawn\n",
      "Davisville North\n",
      "Forest Hill North & West, Forest Hill Road Park\n",
      "High Park, The Junction South\n",
      "North Toronto West,  Lawrence Park\n",
      "The Annex, North Midtown, Yorkville\n",
      "Parkdale, Roncesvalles\n",
      "Davisville\n",
      "University of Toronto, Harbord\n",
      "Runnymede, Swansea\n",
      "Moore Park, Summerhill East\n",
      "Kensington Market, Chinatown, Grange Park\n",
      "Summerhill West, Rathnelly, South Hill, Forest Hill SE, Deer Park\n",
      "CN Tower, King and Spadina, Railway Lands, Harbourfront West, Bathurst Quay, South Niagara, Island airport\n",
      "Rosedale\n",
      "Stn A PO Boxes\n",
      "St. James Town, Cabbagetown\n",
      "First Canadian Place, Underground city\n",
      "Church and Wellesley\n",
      "Business reply mail Processing Centre, South Central Letter Processing Plant Toronto\n"
     ]
    }
   ],
   "source": [
    "#Now, we run the fucntion for all the neighborhoods\n",
    "toronto_venues = getNearbyVenues(names=toronto['Neighborhood'],\n",
    "                                   latitudes=toronto['latitude'],\n",
    "                                   longitudes=toronto['longitude']\n",
    "                                  )\n"
   ]
  },
  {
   "cell_type": "markdown",
   "metadata": {},
   "source": [
    "#### Let's check the resulting dataframe"
   ]
  },
  {
   "cell_type": "code",
   "execution_count": 151,
   "metadata": {},
   "outputs": [
    {
     "name": "stdout",
     "output_type": "stream",
     "text": [
      "(1529, 7)\n"
     ]
    },
    {
     "data": {
      "text/html": [
       "<div>\n",
       "<style scoped>\n",
       "    .dataframe tbody tr th:only-of-type {\n",
       "        vertical-align: middle;\n",
       "    }\n",
       "\n",
       "    .dataframe tbody tr th {\n",
       "        vertical-align: top;\n",
       "    }\n",
       "\n",
       "    .dataframe thead th {\n",
       "        text-align: right;\n",
       "    }\n",
       "</style>\n",
       "<table border=\"1\" class=\"dataframe\">\n",
       "  <thead>\n",
       "    <tr style=\"text-align: right;\">\n",
       "      <th></th>\n",
       "      <th>Neighborhood</th>\n",
       "      <th>Neighborhood Latitude</th>\n",
       "      <th>Neighborhood Longitude</th>\n",
       "      <th>Venue</th>\n",
       "      <th>Venue Latitude</th>\n",
       "      <th>Venue Longitude</th>\n",
       "      <th>Venue Category</th>\n",
       "    </tr>\n",
       "  </thead>\n",
       "  <tbody>\n",
       "    <tr>\n",
       "      <th>0</th>\n",
       "      <td>Regent Park, Harbourfront</td>\n",
       "      <td>43.6555</td>\n",
       "      <td>-79.3626</td>\n",
       "      <td>Roselle Desserts</td>\n",
       "      <td>43.653447</td>\n",
       "      <td>-79.362017</td>\n",
       "      <td>Bakery</td>\n",
       "    </tr>\n",
       "    <tr>\n",
       "      <th>1</th>\n",
       "      <td>Regent Park, Harbourfront</td>\n",
       "      <td>43.6555</td>\n",
       "      <td>-79.3626</td>\n",
       "      <td>Tandem Coffee</td>\n",
       "      <td>43.653559</td>\n",
       "      <td>-79.361809</td>\n",
       "      <td>Coffee Shop</td>\n",
       "    </tr>\n",
       "    <tr>\n",
       "      <th>2</th>\n",
       "      <td>Regent Park, Harbourfront</td>\n",
       "      <td>43.6555</td>\n",
       "      <td>-79.3626</td>\n",
       "      <td>Figs Breakfast &amp; Lunch</td>\n",
       "      <td>43.655675</td>\n",
       "      <td>-79.364503</td>\n",
       "      <td>Breakfast Spot</td>\n",
       "    </tr>\n",
       "    <tr>\n",
       "      <th>3</th>\n",
       "      <td>Regent Park, Harbourfront</td>\n",
       "      <td>43.6555</td>\n",
       "      <td>-79.3626</td>\n",
       "      <td>Morning Glory Cafe</td>\n",
       "      <td>43.653947</td>\n",
       "      <td>-79.361149</td>\n",
       "      <td>Breakfast Spot</td>\n",
       "    </tr>\n",
       "    <tr>\n",
       "      <th>4</th>\n",
       "      <td>Regent Park, Harbourfront</td>\n",
       "      <td>43.6555</td>\n",
       "      <td>-79.3626</td>\n",
       "      <td>The Yoga Lounge</td>\n",
       "      <td>43.655515</td>\n",
       "      <td>-79.364955</td>\n",
       "      <td>Yoga Studio</td>\n",
       "    </tr>\n",
       "  </tbody>\n",
       "</table>\n",
       "</div>"
      ],
      "text/plain": [
       "                Neighborhood  Neighborhood Latitude  Neighborhood Longitude  \\\n",
       "0  Regent Park, Harbourfront                43.6555                -79.3626   \n",
       "1  Regent Park, Harbourfront                43.6555                -79.3626   \n",
       "2  Regent Park, Harbourfront                43.6555                -79.3626   \n",
       "3  Regent Park, Harbourfront                43.6555                -79.3626   \n",
       "4  Regent Park, Harbourfront                43.6555                -79.3626   \n",
       "\n",
       "                    Venue  Venue Latitude  Venue Longitude  Venue Category  \n",
       "0        Roselle Desserts       43.653447       -79.362017          Bakery  \n",
       "1           Tandem Coffee       43.653559       -79.361809     Coffee Shop  \n",
       "2  Figs Breakfast & Lunch       43.655675       -79.364503  Breakfast Spot  \n",
       "3      Morning Glory Cafe       43.653947       -79.361149  Breakfast Spot  \n",
       "4         The Yoga Lounge       43.655515       -79.364955     Yoga Studio  "
      ]
     },
     "execution_count": 151,
     "metadata": {},
     "output_type": "execute_result"
    }
   ],
   "source": [
    "print(toronto_venues.shape)\n",
    "toronto_venues.head()"
   ]
  },
  {
   "cell_type": "code",
   "execution_count": null,
   "metadata": {},
   "outputs": [],
   "source": []
  }
 ],
 "metadata": {
  "kernelspec": {
   "display_name": "Python 3",
   "language": "python",
   "name": "python3"
  },
  "language_info": {
   "codemirror_mode": {
    "name": "ipython",
    "version": 3
   },
   "file_extension": ".py",
   "mimetype": "text/x-python",
   "name": "python",
   "nbconvert_exporter": "python",
   "pygments_lexer": "ipython3",
   "version": "3.6.5"
  }
 },
 "nbformat": 4,
 "nbformat_minor": 4
}
